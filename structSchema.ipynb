{
 "cells": [
  {
   "cell_type": "code",
   "execution_count": 2,
   "id": "e3a901ab-35ff-4a46-bc82-0a35d2b14c20",
   "metadata": {},
   "outputs": [
    {
     "name": "stdout",
     "output_type": "stream",
     "text": [
      "+-------+-----------+----------------------------------------------------------------------------------------+\n",
      "|cust_id|address    |metadata                                                                                |\n",
      "+-------+-----------+----------------------------------------------------------------------------------------+\n",
      "|1234567|123 Main St|{\"store_id\":\"10SjtT\",\"category\":\"direct\",\"sales_channel\":\"ecom\",\"email\":\"idk@gmail.com\"}|\n",
      "+-------+-----------+----------------------------------------------------------------------------------------+\n",
      "\n"
     ]
    }
   ],
   "source": [
    "from pyspark.sql.functions import *\n",
    "from pyspark.sql import SparkSession\n",
    "spark = SparkSession.builder.\\\n",
    "        getOrCreate()\n",
    "#sample data\n",
    "df=spark.createDataFrame([('1234567','123 Main St','10SjtT','idk@gmail.com','ecom','direct')],['cust_id','address','store_id','email','sales_channel','category'])\n",
    "\n",
    "df.select(\"cust_id\",\"address\",to_json(struct(\"store_id\",\"category\",\"sales_channel\",\"email\")).alias(\"metadata\")).show(10,False)\n"
   ]
  },
  {
   "cell_type": "code",
   "execution_count": null,
   "id": "3feda6e0-ddee-4965-a9a4-18e7d93458f4",
   "metadata": {},
   "outputs": [],
   "source": []
  }
 ],
 "metadata": {
  "kernelspec": {
   "display_name": "Python 3 (ipykernel)",
   "language": "python",
   "name": "python3"
  },
  "language_info": {
   "codemirror_mode": {
    "name": "ipython",
    "version": 3
   },
   "file_extension": ".py",
   "mimetype": "text/x-python",
   "name": "python",
   "nbconvert_exporter": "python",
   "pygments_lexer": "ipython3",
   "version": "3.11.5"
  }
 },
 "nbformat": 4,
 "nbformat_minor": 5
}
